{
 "cells": [
  {
   "cell_type": "markdown",
   "metadata": {},
   "source": [
    "# Unidade II - Atividades de Aprendizagem Supervisionada\n",
    "# Aula 02: Atividade de Teste\n",
    "# Roteiro\n",
    " * Atividade de Teste"
   ]
  },
  {
   "cell_type": "markdown",
   "metadata": {},
   "source": [
    "**Importação dos Dados**"
   ]
  },
  {
   "cell_type": "code",
   "execution_count": 1,
   "metadata": {},
   "outputs": [],
   "source": [
    "import matplotlib.pylab as plt\n",
    "\n",
    "%matplotlib inline \n",
    "plt.style.use('seaborn-whitegrid')\n",
    "plt.rc('text', usetex=True)\n",
    "plt.rc('font', family='times')\n",
    "plt.rc('xtick', labelsize=10) \n",
    "plt.rc('ytick', labelsize=10) \n",
    "plt.rc('font', size=12) \n",
    "plt.rc('figure', figsize = (12, 5))\n"
   ]
  },
  {
   "cell_type": "code",
   "execution_count": 2,
   "metadata": {
    "scrolled": false
   },
   "outputs": [],
   "source": [
    "import pickle\n",
    "ofname = open('files/dataset_small.pkl','rb') \n",
    "(x,y) = pickle.load(ofname, encoding=\"bytes\")"
   ]
  },
  {
   "cell_type": "markdown",
   "metadata": {},
   "source": [
    "## 4. Teste"
   ]
  },
  {
   "cell_type": "markdown",
   "metadata": {},
   "source": [
    "Até este ponto utilizamos dados de treinamento para \"avaliar\" o desempenho do classificador, mas esta é uma prática não recomendada. Vamos usar um subconjunto dos dados de treinamento para **testar** o desempenho do classificador."
   ]
  },
  {
   "cell_type": "markdown",
   "metadata": {},
   "source": [
    "**Dividindo o dataset em dois conjuntos de dados, de treinamento e de teste**"
   ]
  },
  {
   "cell_type": "code",
   "execution_count": 3,
   "metadata": {
    "scrolled": false
   },
   "outputs": [
    {
     "name": "stdout",
     "output_type": "stream",
     "text": [
      "Dados de entrada do treinamento:(2898, 15) , resposta do treinamento: (2898,)\n",
      "Dados de entrada do teste:(1242, 15)  , resposta do teste: (1242,)\n"
     ]
    }
   ],
   "source": [
    "import numpy as np\n",
    "perm = np.random.permutation(y.size)\n",
    "PRC = 0.7\n",
    "split_point = int(np.ceil(y.shape[0]*PRC))\n",
    "\n",
    "X_train = x[perm[:split_point].ravel(),:]\n",
    "y_train = y[perm[:split_point].ravel()]\n",
    "\n",
    "X_test = x[perm[split_point:].ravel(),:]\n",
    "y_test = y[perm[split_point:].ravel()]\n",
    "\n",
    "print ('Dados de entrada do treinamento:' + str(X_train.shape), ', resposta do treinamento: '+str(y_train.shape))\n",
    "print ('Dados de entrada do teste:' + str(X_test.shape), ' , resposta do teste: '+str(y_test.shape))"
   ]
  },
  {
   "cell_type": "code",
   "execution_count": 4,
   "metadata": {
    "scrolled": false
   },
   "outputs": [
    {
     "name": "stdout",
     "output_type": "stream",
     "text": [
      "\n",
      "ESTATÍSTICA DO TREINAMENTO:\n",
      "Acurácia: 1.0\n",
      "Precision: 1.0\n",
      "Recall: 1.0\n",
      "F1-score: 1.0\n",
      "Matriz de confusão: \n",
      "[[2355    0]\n",
      " [   0  543]]\n"
     ]
    }
   ],
   "source": [
    "#Treinar o classificador com os dados de treinamento\n",
    "from sklearn import neighbors\n",
    "knn = neighbors.KNeighborsClassifier(n_neighbors=1)\n",
    "knn.fit(X_train,y_train)\n",
    "\n",
    "#Visualizar o desempenho\n",
    "yhat=knn.predict(X_train)\n",
    "\n",
    "from sklearn import metrics\n",
    "print (\"\\nESTATÍSTICA DO TREINAMENTO:\")\n",
    "print (\"Acurácia:\", metrics.accuracy_score(yhat, y_train))\n",
    "print (\"Precision:\", metrics.precision_score(yhat, y_train))\n",
    "print (\"Recall:\", metrics.recall_score(yhat, y_train))\n",
    "print (\"F1-score:\", metrics.f1_score(yhat, y_train))\n",
    "print (\"Matriz de confusão: \\n\"+ str(metrics.confusion_matrix(y_train, yhat)))"
   ]
  },
  {
   "cell_type": "code",
   "execution_count": 5,
   "metadata": {
    "scrolled": false
   },
   "outputs": [
    {
     "name": "stdout",
     "output_type": "stream",
     "text": [
      "ESTATÍSTICAS DO TESTE:\n",
      "Acurácia: 0.7616747181964574\n",
      "Precision: 0.36363636363636365\n",
      "Recall: 0.3389830508474576\n",
      "F1-score: 0.3508771929824561\n",
      "Matriz de confusão: \n",
      "[[866 140]\n",
      " [156  80]]\n"
     ]
    }
   ],
   "source": [
    "#Analisar com os dados de teste\n",
    "yhat=knn.predict(X_test)\n",
    "print (\"ESTATÍSTICAS DO TESTE:\")\n",
    "print (\"Acurácia:\", metrics.accuracy_score(yhat, y_test))\n",
    "print (\"Precision:\", metrics.precision_score(yhat, y_test))\n",
    "print (\"Recall:\", metrics.recall_score(yhat, y_test))\n",
    "print (\"F1-score:\", metrics.f1_score(yhat, y_test))\n",
    "print (\"Matriz de confusão: \\n\"+ str(metrics.confusion_matrix(yhat,y_test)))"
   ]
  },
  {
   "cell_type": "markdown",
   "metadata": {},
   "source": [
    "**É possível automatizar esse processo, com as ferramentas fornecidas pelo pacote scikit-learn**"
   ]
  },
  {
   "cell_type": "code",
   "execution_count": 6,
   "metadata": {
    "scrolled": false
   },
   "outputs": [
    {
     "name": "stdout",
     "output_type": "stream",
     "text": [
      "Erro médio: 0.752415458937198\n"
     ]
    }
   ],
   "source": [
    "#Divisão feita com os pacotes fornecidos pelo pacote sklearn:\n",
    "from sklearn.model_selection import train_test_split\n",
    "from sklearn import neighbors\n",
    "from sklearn import metrics\n",
    "\n",
    "PRC = 0.3\n",
    "acc = np.zeros((10,))\n",
    "for i in range(10):\n",
    "    X_train, X_test, y_train, y_test = train_test_split(x, y, test_size=PRC)\n",
    "    knn = neighbors.KNeighborsClassifier(n_neighbors=1)\n",
    "    knn.fit(X_train,y_train)\n",
    "    yhat = knn.predict(X_test)\n",
    "    acc[i] = metrics.accuracy_score(yhat, y_test)\n",
    "acc.shape=(1,10)\n",
    "print (\"Erro médio: \"+str(np.mean(acc[0])))"
   ]
  },
  {
   "cell_type": "markdown",
   "metadata": {},
   "source": [
    "Nós podemos usar o processo de validação para a seleção do algoritmo de AM.\n",
    "\n",
    "Vamos analisar o desempenho de quatro classificadores diferentes sobre o mesmo conjunto de dados."
   ]
  },
  {
   "cell_type": "code",
   "execution_count": 7,
   "metadata": {
    "scrolled": false
   },
   "outputs": [
    {
     "data": {
      "image/png": "[encoded data removed]",
      "text/plain": [
       "<Figure size 864x360 with 1 Axes>"
      ]
     },
     "metadata": {},
     "output_type": "display_data"
    }
   ],
   "source": [
    "from sklearn.model_selection import train_test_split\n",
    "from sklearn import neighbors\n",
    "from sklearn import tree\n",
    "from sklearn import svm\n",
    "from sklearn import metrics\n",
    "\n",
    "PRC = 0.1\n",
    "acc_r=np.zeros((10,4))\n",
    "for i in range(10):\n",
    "    X_train, X_test, y_train, y_test = train_test_split(x, y, test_size=PRC)\n",
    "    nn1 = neighbors.KNeighborsClassifier(n_neighbors=1)\n",
    "    nn3 = neighbors.KNeighborsClassifier(n_neighbors=3)\n",
    "    svc = svm.SVC()\n",
    "    dt = tree.DecisionTreeClassifier()\n",
    "    \n",
    "    nn1.fit(X_train,y_train)\n",
    "    nn3.fit(X_train,y_train)\n",
    "    svc.fit(X_train,y_train)\n",
    "    dt.fit(X_train,y_train)\n",
    "    \n",
    "    yhat_nn1=nn1.predict(X_test)\n",
    "    yhat_nn3=nn3.predict(X_test)\n",
    "    yhat_svc=svc.predict(X_test)\n",
    "    yhat_dt=dt.predict(X_test)\n",
    "    \n",
    "    acc_r[i][0] = metrics.accuracy_score(yhat_nn1, y_test)\n",
    "    acc_r[i][1] = metrics.accuracy_score(yhat_nn3, y_test)\n",
    "    acc_r[i][2] = metrics.accuracy_score(yhat_svc, y_test)\n",
    "    acc_r[i][3] = metrics.accuracy_score(yhat_dt, y_test)\n",
    "\n",
    "\n",
    "plt.boxplot(acc_r);\n",
    "for i in range(4):\n",
    "    xderiv = (i+1)*np.ones(acc_r[:,i].shape)+(np.random.rand(10,)-0.5)*0.1\n",
    "    plt.plot(xderiv,acc_r[:,i],'ro',alpha=0.3)\n",
    "    \n",
    "ax = plt.gca()\n",
    "ax.set_xticklabels(['1-NN','3-NN','SVM','Decision Tree'])\n",
    "plt.ylabel('Acuracia')\n",
    "plt.savefig(\"plots/error_ms_1.png\",dpi=300, bbox_inches='tight')"
   ]
  },
  {
   "cell_type": "code",
   "execution_count": null,
   "metadata": {},
   "outputs": [],
   "source": []
  }
 ],
 "metadata": {
  "anaconda-cloud": {},
  "kernelspec": {
   "display_name": "Python 3",
   "language": "python",
   "name": "python3"
  },
  "language_info": {
   "codemirror_mode": {
    "name": "ipython",
    "version": 3
   },
   "file_extension": ".py",
   "mimetype": "text/x-python",
   "name": "python",
   "nbconvert_exporter": "python",
   "pygments_lexer": "ipython3",
   "version": "3.8.3"
  }
 },
 "nbformat": 4,
 "nbformat_minor": 1
}
